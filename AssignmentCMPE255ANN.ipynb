{
  "nbformat": 4,
  "nbformat_minor": 0,
  "metadata": {
    "colab": {
      "name": "AssignmentCMPE255ANN.ipynb",
      "provenance": [],
      "authorship_tag": "ABX9TyPd7AGF6qk+O+I2cIlGmEzM",
      "include_colab_link": true
    },
    "kernelspec": {
      "name": "python3",
      "display_name": "Python 3"
    },
    "language_info": {
      "name": "python"
    }
  },
  "cells": [
    {
      "cell_type": "markdown",
      "metadata": {
        "id": "view-in-github",
        "colab_type": "text"
      },
      "source": [
        "<a href=\"https://colab.research.google.com/github/Swathi04/CMPE255_Approximate_Nearest_Neighbour/blob/main/AssignmentCMPE255ANN.ipynb\" target=\"_parent\"><img src=\"https://colab.research.google.com/assets/colab-badge.svg\" alt=\"Open In Colab\"/></a>"
      ]
    },
    {
      "cell_type": "markdown",
      "metadata": {
        "id": "tX2K9wSJGHQl"
      },
      "source": [
        "\n",
        "#Using state of art libraries for Approximate nearest neighbor search\n",
        "Submitted by: SWATHI ANANDRAM\n",
        "\n",
        "\n",
        "\n"
      ]
    },
    {
      "cell_type": "markdown",
      "metadata": {
        "id": "J9hnB-RKGS08"
      },
      "source": [
        "##INSTALLING NECESSARY LIBRARIES"
      ]
    },
    {
      "cell_type": "code",
      "metadata": {
        "colab": {
          "base_uri": "https://localhost:8080/"
        },
        "id": "oMKReG-N8oBP",
        "outputId": "08e335e8-3216-410f-b61c-caf993b34c8a"
      },
      "source": [
        "!pip install lightfm\n",
        "!pip install nmslib\n",
        "!pip install faiss\n",
        "!pip install annoy\n"
      ],
      "execution_count": 1,
      "outputs": [
        {
          "output_type": "stream",
          "name": "stdout",
          "text": [
            "Collecting lightfm\n",
            "  Downloading lightfm-1.16.tar.gz (310 kB)\n",
            "\u001b[?25l\r\u001b[K     |█                               | 10 kB 22.2 MB/s eta 0:00:01\r\u001b[K     |██▏                             | 20 kB 23.0 MB/s eta 0:00:01\r\u001b[K     |███▏                            | 30 kB 26.5 MB/s eta 0:00:01\r\u001b[K     |████▎                           | 40 kB 27.9 MB/s eta 0:00:01\r\u001b[K     |█████▎                          | 51 kB 29.7 MB/s eta 0:00:01\r\u001b[K     |██████▍                         | 61 kB 29.7 MB/s eta 0:00:01\r\u001b[K     |███████▍                        | 71 kB 25.2 MB/s eta 0:00:01\r\u001b[K     |████████▌                       | 81 kB 25.0 MB/s eta 0:00:01\r\u001b[K     |█████████▌                      | 92 kB 26.2 MB/s eta 0:00:01\r\u001b[K     |██████████▋                     | 102 kB 27.4 MB/s eta 0:00:01\r\u001b[K     |███████████▋                    | 112 kB 27.4 MB/s eta 0:00:01\r\u001b[K     |████████████▊                   | 122 kB 27.4 MB/s eta 0:00:01\r\u001b[K     |█████████████▊                  | 133 kB 27.4 MB/s eta 0:00:01\r\u001b[K     |██████████████▉                 | 143 kB 27.4 MB/s eta 0:00:01\r\u001b[K     |███████████████▉                | 153 kB 27.4 MB/s eta 0:00:01\r\u001b[K     |█████████████████               | 163 kB 27.4 MB/s eta 0:00:01\r\u001b[K     |██████████████████              | 174 kB 27.4 MB/s eta 0:00:01\r\u001b[K     |███████████████████             | 184 kB 27.4 MB/s eta 0:00:01\r\u001b[K     |████████████████████            | 194 kB 27.4 MB/s eta 0:00:01\r\u001b[K     |█████████████████████▏          | 204 kB 27.4 MB/s eta 0:00:01\r\u001b[K     |██████████████████████▏         | 215 kB 27.4 MB/s eta 0:00:01\r\u001b[K     |███████████████████████▎        | 225 kB 27.4 MB/s eta 0:00:01\r\u001b[K     |████████████████████████▎       | 235 kB 27.4 MB/s eta 0:00:01\r\u001b[K     |█████████████████████████▍      | 245 kB 27.4 MB/s eta 0:00:01\r\u001b[K     |██████████████████████████▍     | 256 kB 27.4 MB/s eta 0:00:01\r\u001b[K     |███████████████████████████▌    | 266 kB 27.4 MB/s eta 0:00:01\r\u001b[K     |████████████████████████████▌   | 276 kB 27.4 MB/s eta 0:00:01\r\u001b[K     |█████████████████████████████▋  | 286 kB 27.4 MB/s eta 0:00:01\r\u001b[K     |██████████████████████████████▋ | 296 kB 27.4 MB/s eta 0:00:01\r\u001b[K     |███████████████████████████████▊| 307 kB 27.4 MB/s eta 0:00:01\r\u001b[K     |████████████████████████████████| 310 kB 27.4 MB/s \n",
            "\u001b[?25hRequirement already satisfied: numpy in /usr/local/lib/python3.7/dist-packages (from lightfm) (1.19.5)\n",
            "Requirement already satisfied: scipy>=0.17.0 in /usr/local/lib/python3.7/dist-packages (from lightfm) (1.4.1)\n",
            "Requirement already satisfied: requests in /usr/local/lib/python3.7/dist-packages (from lightfm) (2.23.0)\n",
            "Requirement already satisfied: scikit-learn in /usr/local/lib/python3.7/dist-packages (from lightfm) (1.0.1)\n",
            "Requirement already satisfied: urllib3!=1.25.0,!=1.25.1,<1.26,>=1.21.1 in /usr/local/lib/python3.7/dist-packages (from requests->lightfm) (1.24.3)\n",
            "Requirement already satisfied: certifi>=2017.4.17 in /usr/local/lib/python3.7/dist-packages (from requests->lightfm) (2021.10.8)\n",
            "Requirement already satisfied: chardet<4,>=3.0.2 in /usr/local/lib/python3.7/dist-packages (from requests->lightfm) (3.0.4)\n",
            "Requirement already satisfied: idna<3,>=2.5 in /usr/local/lib/python3.7/dist-packages (from requests->lightfm) (2.10)\n",
            "Requirement already satisfied: joblib>=0.11 in /usr/local/lib/python3.7/dist-packages (from scikit-learn->lightfm) (1.1.0)\n",
            "Requirement already satisfied: threadpoolctl>=2.0.0 in /usr/local/lib/python3.7/dist-packages (from scikit-learn->lightfm) (3.0.0)\n",
            "Building wheels for collected packages: lightfm\n",
            "  Building wheel for lightfm (setup.py) ... \u001b[?25l\u001b[?25hdone\n",
            "  Created wheel for lightfm: filename=lightfm-1.16-cp37-cp37m-linux_x86_64.whl size=705346 sha256=3b6ac9edbd009278118b0b3bfb94fd090abb2f546ff751a1a522fc6424153a73\n",
            "  Stored in directory: /root/.cache/pip/wheels/f8/56/28/5772a3bd3413d65f03aa452190b00898b680b10028a1021914\n",
            "Successfully built lightfm\n",
            "Installing collected packages: lightfm\n",
            "Successfully installed lightfm-1.16\n",
            "Collecting nmslib\n",
            "  Downloading nmslib-2.1.1-cp37-cp37m-manylinux2010_x86_64.whl (13.5 MB)\n",
            "\u001b[K     |████████████████████████████████| 13.5 MB 29.0 MB/s \n",
            "\u001b[?25hRequirement already satisfied: numpy>=1.10.0 in /usr/local/lib/python3.7/dist-packages (from nmslib) (1.19.5)\n",
            "Requirement already satisfied: psutil in /usr/local/lib/python3.7/dist-packages (from nmslib) (5.4.8)\n",
            "Collecting pybind11<2.6.2\n",
            "  Downloading pybind11-2.6.1-py2.py3-none-any.whl (188 kB)\n",
            "\u001b[K     |████████████████████████████████| 188 kB 43.7 MB/s \n",
            "\u001b[?25hInstalling collected packages: pybind11, nmslib\n",
            "Successfully installed nmslib-2.1.1 pybind11-2.6.1\n",
            "Collecting faiss\n",
            "  Downloading faiss-1.5.3-cp37-cp37m-manylinux1_x86_64.whl (4.7 MB)\n",
            "\u001b[K     |████████████████████████████████| 4.7 MB 28.7 MB/s \n",
            "\u001b[?25hRequirement already satisfied: numpy in /usr/local/lib/python3.7/dist-packages (from faiss) (1.19.5)\n",
            "Installing collected packages: faiss\n",
            "Successfully installed faiss-1.5.3\n",
            "Collecting annoy\n",
            "  Downloading annoy-1.17.0.tar.gz (646 kB)\n",
            "\u001b[K     |████████████████████████████████| 646 kB 29.4 MB/s \n",
            "\u001b[?25hBuilding wheels for collected packages: annoy\n",
            "  Building wheel for annoy (setup.py) ... \u001b[?25l\u001b[?25hdone\n",
            "  Created wheel for annoy: filename=annoy-1.17.0-cp37-cp37m-linux_x86_64.whl size=391650 sha256=1fade6e3c1b41419fdd12b4a966a3d80010071343c3bb7a4794a61f4db18c65a\n",
            "  Stored in directory: /root/.cache/pip/wheels/4f/e8/1e/7cc9ebbfa87a3b9f8ba79408d4d31831d67eea918b679a4c07\n",
            "Successfully built annoy\n",
            "Installing collected packages: annoy\n",
            "Successfully installed annoy-1.17.0\n"
          ]
        }
      ]
    },
    {
      "cell_type": "code",
      "metadata": {
        "colab": {
          "base_uri": "https://localhost:8080/"
        },
        "id": "rLR3pS3Z9D0U",
        "outputId": "fd620696-794d-4eed-bf09-acd13fc30770"
      },
      "source": [
        "!pip install faiss-cpu --no-cache"
      ],
      "execution_count": 3,
      "outputs": [
        {
          "output_type": "stream",
          "name": "stdout",
          "text": [
            "Collecting faiss-cpu\n",
            "  Downloading faiss_cpu-1.7.1.post2-cp37-cp37m-manylinux_2_17_x86_64.manylinux2014_x86_64.whl (8.4 MB)\n",
            "\u001b[K     |████████████████████████████████| 8.4 MB 33.2 MB/s \n",
            "\u001b[?25hInstalling collected packages: faiss-cpu\n",
            "Successfully installed faiss-cpu-1.7.1.post2\n"
          ]
        }
      ]
    },
    {
      "cell_type": "markdown",
      "metadata": {
        "id": "_APp2MZGGYNM"
      },
      "source": [
        "##IMPORTING NECESSARY LIBRARIES"
      ]
    },
    {
      "cell_type": "code",
      "metadata": {
        "id": "LjrserL08ajK"
      },
      "source": [
        "import pickle\n",
        "from lightfm import LightFM\n",
        "from lightfm.datasets import fetch_stackexchange\n",
        "import nmslib\n",
        "import faiss\n",
        "import annoy\n",
        "import time\n",
        "from stackapi import StackAPI"
      ],
      "execution_count": 89,
      "outputs": []
    },
    {
      "cell_type": "markdown",
      "metadata": {
        "id": "qc0quiFHGdfY"
      },
      "source": [
        "##INSTALL STACKAPI TO GET THE DATA"
      ]
    },
    {
      "cell_type": "code",
      "metadata": {
        "colab": {
          "base_uri": "https://localhost:8080/"
        },
        "id": "bCxGfNB49KGe",
        "outputId": "792d99b0-926f-4ffe-c09f-47bf588fd97d"
      },
      "source": [
        "!pip install stackapi"
      ],
      "execution_count": 5,
      "outputs": [
        {
          "output_type": "stream",
          "name": "stdout",
          "text": [
            "Collecting stackapi\n",
            "  Downloading StackAPI-0.2.0.tar.gz (5.6 kB)\n",
            "Requirement already satisfied: requests in /usr/local/lib/python3.7/dist-packages (from stackapi) (2.23.0)\n",
            "Requirement already satisfied: six in /usr/local/lib/python3.7/dist-packages (from stackapi) (1.15.0)\n",
            "Requirement already satisfied: chardet<4,>=3.0.2 in /usr/local/lib/python3.7/dist-packages (from requests->stackapi) (3.0.4)\n",
            "Requirement already satisfied: idna<3,>=2.5 in /usr/local/lib/python3.7/dist-packages (from requests->stackapi) (2.10)\n",
            "Requirement already satisfied: urllib3!=1.25.0,!=1.25.1,<1.26,>=1.21.1 in /usr/local/lib/python3.7/dist-packages (from requests->stackapi) (1.24.3)\n",
            "Requirement already satisfied: certifi>=2017.4.17 in /usr/local/lib/python3.7/dist-packages (from requests->stackapi) (2021.10.8)\n",
            "Building wheels for collected packages: stackapi\n",
            "  Building wheel for stackapi (setup.py) ... \u001b[?25l\u001b[?25hdone\n",
            "  Created wheel for stackapi: filename=StackAPI-0.2.0-py3-none-any.whl size=5856 sha256=542b93b2adb8b28ee85c6f8fbe122ef559ee8b73e6dac85f4bc9515f68d98a5f\n",
            "  Stored in directory: /root/.cache/pip/wheels/ec/db/60/df42a65853e3581c26a2fbb2012a228cb8e267369a3b9ca44d\n",
            "Successfully built stackapi\n",
            "Installing collected packages: stackapi\n",
            "Successfully installed stackapi-0.2.0\n"
          ]
        }
      ]
    },
    {
      "cell_type": "markdown",
      "metadata": {
        "id": "wyWQFJ_LGhdn"
      },
      "source": [
        "##LOAD DATA"
      ]
    },
    {
      "cell_type": "code",
      "metadata": {
        "colab": {
          "base_uri": "https://localhost:8080/"
        },
        "id": "hjZs8Buc9Nss",
        "outputId": "55712a12-d3d2-4a5f-a5a3-555fffe53a08"
      },
      "source": [
        "stackexchange = fetch_stackexchange('crossvalidated')\n",
        "stackexchange"
      ],
      "execution_count": 6,
      "outputs": [
        {
          "output_type": "execute_result",
          "data": {
            "text/plain": [
              "{'item_feature_labels': array(['question_id:0', 'question_id:1', 'question_id:2', ...,\n",
              "        'question_id:72357', 'question_id:72358', 'question_id:72359'],\n",
              "       dtype='<U17'),\n",
              " 'item_features': <72360x72360 sparse matrix of type '<class 'numpy.float32'>'\n",
              " \twith 72360 stored elements in Compressed Sparse Row format>,\n",
              " 'test': <2836x72360 sparse matrix of type '<class 'numpy.float32'>'\n",
              " \twith 8020 stored elements in COOrdinate format>,\n",
              " 'train': <2836x72360 sparse matrix of type '<class 'numpy.float32'>'\n",
              " \twith 51477 stored elements in COOrdinate format>}"
            ]
          },
          "metadata": {},
          "execution_count": 6
        }
      ]
    },
    {
      "cell_type": "code",
      "metadata": {
        "id": "XlBuluJZ9Qiq"
      },
      "source": [
        "train = stackexchange['train']\n",
        "test = stackexchange['test']\n",
        "\n",
        "model = LightFM(learning_rate=0.05, loss='warp', no_components=64, item_alpha=0.001)\n",
        "model.fit_partial(train, item_features=stackexchange['item_features'], epochs=20 )\n",
        "\n",
        "item_vectors = stackexchange['item_features'] * model.item_embeddings"
      ],
      "execution_count": 9,
      "outputs": []
    },
    {
      "cell_type": "code",
      "metadata": {
        "colab": {
          "base_uri": "https://localhost:8080/"
        },
        "id": "-Otq-u_S9WVd",
        "outputId": "466924d8-882e-4e5d-9d8b-efdf1c680c55"
      },
      "source": [
        "stackexchange['item_feature_labels']"
      ],
      "execution_count": 10,
      "outputs": [
        {
          "output_type": "execute_result",
          "data": {
            "text/plain": [
              "array(['question_id:0', 'question_id:1', 'question_id:2', ...,\n",
              "       'question_id:72357', 'question_id:72358', 'question_id:72359'],\n",
              "      dtype='<U17')"
            ]
          },
          "metadata": {},
          "execution_count": 10
        }
      ]
    },
    {
      "cell_type": "markdown",
      "metadata": {
        "id": "C_gKVxbHHn1p"
      },
      "source": [
        "###Pickle data"
      ]
    },
    {
      "cell_type": "code",
      "metadata": {
        "id": "UAKYCAxf9exn"
      },
      "source": [
        "with open('stack_exchange.pickle', 'wb') as f:\n",
        "    pickle.dump({\"name\": stackexchange['item_feature_labels'], \"vector\": item_vectors}, f)"
      ],
      "execution_count": 11,
      "outputs": []
    },
    {
      "cell_type": "markdown",
      "metadata": {
        "id": "jQj_T3moHpmI"
      },
      "source": [
        "###Load data and visualize it"
      ]
    },
    {
      "cell_type": "code",
      "metadata": {
        "colab": {
          "base_uri": "https://localhost:8080/"
        },
        "id": "Rw9UbONG9kAF",
        "outputId": "fc37fcfc-8fea-4769-c85f-5bb1dc73b07b"
      },
      "source": [
        "def load_data():\n",
        "    with open('stack_exchange.pickle', 'rb') as f:\n",
        "        data = pickle.load(f)\n",
        "    return data\n",
        "\n",
        "data = load_data()\n",
        "data"
      ],
      "execution_count": 12,
      "outputs": [
        {
          "output_type": "execute_result",
          "data": {
            "text/plain": [
              "{'name': array(['question_id:0', 'question_id:1', 'question_id:2', ...,\n",
              "        'question_id:72357', 'question_id:72358', 'question_id:72359'],\n",
              "       dtype='<U17'),\n",
              " 'vector': array([[-0.08981958,  0.01580326,  0.04165578, ...,  0.01822499,\n",
              "         -0.03202373,  0.11310798],\n",
              "        [ 0.174731  , -0.03626881,  0.17524493, ..., -0.0752098 ,\n",
              "          0.00059961,  0.10559047],\n",
              "        [ 0.02355818,  0.13794656,  0.1261663 , ..., -0.00232866,\n",
              "          0.08617596,  0.0461015 ],\n",
              "        ...,\n",
              "        [-0.00544038,  0.00064837,  0.00693827, ...,  0.02580006,\n",
              "          0.0055762 , -0.01024269],\n",
              "        [-0.08661043,  0.05814417, -0.05294326, ..., -0.08642083,\n",
              "          0.02310379, -0.10750322],\n",
              "        [-0.00310272,  0.01127101, -0.0112341 , ..., -0.05971843,\n",
              "          0.00136822,  0.02068056]], dtype=float32)}"
            ]
          },
          "metadata": {},
          "execution_count": 12
        }
      ]
    },
    {
      "cell_type": "markdown",
      "metadata": {
        "id": "w_vNXhUx9tHI"
      },
      "source": [
        "##LSH\n",
        "Locality-sensitive hashing (LSH) is an algorithmic technique that hashes similar input items into the same \"buckets\" with high probability. The number of buckets is much smaller than the universe of possible input items. Since similar items end up in the same buckets, this technique can be used for data clustering and nearest neighbor search. It differs from conventional hashing techniques in that hash collisions are maximized, not minimized. "
      ]
    },
    {
      "cell_type": "markdown",
      "metadata": {
        "id": "fQRSVRk7G5q0"
      },
      "source": [
        "###VISUALIZING VECTORS"
      ]
    },
    {
      "cell_type": "code",
      "metadata": {
        "id": "H6Z1juFY9uXf"
      },
      "source": [
        "vectors_value = data[\"vector\"]\n",
        "names_value = data[\"name\"]"
      ],
      "execution_count": 13,
      "outputs": []
    },
    {
      "cell_type": "code",
      "metadata": {
        "colab": {
          "base_uri": "https://localhost:8080/"
        },
        "id": "WjCrkTPe93Sp",
        "outputId": "e2600106-18c2-407a-f5d3-9f35a9f4849e"
      },
      "source": [
        "vectors_value"
      ],
      "execution_count": 14,
      "outputs": [
        {
          "output_type": "execute_result",
          "data": {
            "text/plain": [
              "array([[-0.08981958,  0.01580326,  0.04165578, ...,  0.01822499,\n",
              "        -0.03202373,  0.11310798],\n",
              "       [ 0.174731  , -0.03626881,  0.17524493, ..., -0.0752098 ,\n",
              "         0.00059961,  0.10559047],\n",
              "       [ 0.02355818,  0.13794656,  0.1261663 , ..., -0.00232866,\n",
              "         0.08617596,  0.0461015 ],\n",
              "       ...,\n",
              "       [-0.00544038,  0.00064837,  0.00693827, ...,  0.02580006,\n",
              "         0.0055762 , -0.01024269],\n",
              "       [-0.08661043,  0.05814417, -0.05294326, ..., -0.08642083,\n",
              "         0.02310379, -0.10750322],\n",
              "       [-0.00310272,  0.01127101, -0.0112341 , ..., -0.05971843,\n",
              "         0.00136822,  0.02068056]], dtype=float32)"
            ]
          },
          "metadata": {},
          "execution_count": 14
        }
      ]
    },
    {
      "cell_type": "code",
      "metadata": {
        "colab": {
          "base_uri": "https://localhost:8080/"
        },
        "id": "KAYX4MWf94kw",
        "outputId": "1d9a5d45-14cb-4513-8a69-f6c672f1af8b"
      },
      "source": [
        "names_value"
      ],
      "execution_count": 15,
      "outputs": [
        {
          "output_type": "execute_result",
          "data": {
            "text/plain": [
              "array(['question_id:0', 'question_id:1', 'question_id:2', ...,\n",
              "       'question_id:72357', 'question_id:72358', 'question_id:72359'],\n",
              "      dtype='<U17')"
            ]
          },
          "metadata": {},
          "execution_count": 15
        }
      ]
    },
    {
      "cell_type": "markdown",
      "metadata": {
        "id": "nqa2AZOjG_Ju"
      },
      "source": [
        "###Creating Index Class"
      ]
    },
    {
      "cell_type": "code",
      "metadata": {
        "id": "XkDlBhrR-A0O"
      },
      "source": [
        "class LSHIndex():\n",
        "  def __init__(self, vectors, labels):\n",
        "      self.dimension = vectors.shape[1]\n",
        "      self.vectors = vectors.astype('float32')\n",
        "      self.labels = labels\n",
        "  def build_index(self, num_bits=8):\n",
        "      self.index = faiss.IndexLSH(self.dimension, num_bits)\n",
        "      self.index.add(self.vectors)\n",
        "  def results(self, vectors, k=10):\n",
        "      distances, indices = self.index.search(vectors, k) \n",
        "      return [self.labels[i] for i in indices[0]]"
      ],
      "execution_count": 43,
      "outputs": []
    },
    {
      "cell_type": "markdown",
      "metadata": {
        "id": "UVCV7hSFHRnZ"
      },
      "source": [
        "###Checking the time taken for the algorithm to return the data\n",
        "Here we are checking for the similar questions to question id 6"
      ]
    },
    {
      "cell_type": "code",
      "metadata": {
        "colab": {
          "base_uri": "https://localhost:8080/"
        },
        "id": "aO359aZD-FnU",
        "outputId": "d2780352-fd37-434e-ee44-51011e2e92ff"
      },
      "source": [
        "time_1 = time.time()\n",
        "\n",
        "lsh_ind = LSHIndex(data[\"vector\"], data[\"name\"])\n",
        "lsh_ind.build_index()\n",
        "\n",
        "vector, name = data['vector'][6:7], data['name'][6]\n",
        "\n",
        "simlar_question_return_ids = '\\n '.join(lsh_ind.results(vector))\n",
        "print(f\"Similar questions to question id - {name} are:\\n {simlar_question_return_ids}\")\n",
        "\n",
        "time_2 = time.time()\n",
        "\n",
        "total_time = time_2-time_1\n",
        "\n",
        "print(\"LSH took {total_time} seconds.\".format(total_time=total_time))"
      ],
      "execution_count": 95,
      "outputs": [
        {
          "output_type": "stream",
          "name": "stdout",
          "text": [
            "Similar questions to question id - question_id:6 are:\n",
            " question_id:779\n",
            " question_id:1063\n",
            " question_id:786\n",
            " question_id:731\n",
            " question_id:6\n",
            " question_id:1296\n",
            " question_id:1384\n",
            " question_id:1517\n",
            " question_id:770\n",
            " question_id:337\n",
            "LSH took 0.019115924835205078 seconds.\n"
          ]
        }
      ]
    },
    {
      "cell_type": "markdown",
      "metadata": {
        "id": "vaSXlpI4Hvi1"
      },
      "source": [
        "###Let us retrieve the question id for one of the questions from the above returned result along with the original question"
      ]
    },
    {
      "cell_type": "code",
      "metadata": {
        "colab": {
          "base_uri": "https://localhost:8080/"
        },
        "id": "bumzGAKTA2jr",
        "outputId": "865e8eee-0caa-4092-f994-6741d9c7e4b5"
      },
      "source": [
        "site_name = 'stackoverflow'\n",
        "site_value = StackAPI(site_name)\n",
        "question = site_value.fetch('questions/{ids}', ids=[337], filter='withbody')\n",
        "question"
      ],
      "execution_count": 106,
      "outputs": [
        {
          "output_type": "execute_result",
          "data": {
            "text/plain": [
              "{'backoff': 0,\n",
              " 'has_more': False,\n",
              " 'items': [{'accepted_answer_id': 342,\n",
              "   'answer_count': 12,\n",
              "   'body': \"<p>I am about to build a piece of a project that will need to construct and post an XML document to a web service and I'd like to do it in Python, as a means to expand my skills in it.  </p>\\n\\n<p>Unfortunately, whilst I know the XML model fairly well in .NET, I'm uncertain what the pros and cons are of the XML models in Python.  </p>\\n\\n<p>Anyone have experience doing XML processing in Python? Where would you suggest I start? The XML files I'll be building will be fairly simple.</p>\\n\",\n",
              "   'content_license': 'CC BY-SA 3.0',\n",
              "   'creation_date': 1217648155,\n",
              "   'is_answered': True,\n",
              "   'last_activity_date': 1636743381,\n",
              "   'last_edit_date': 1483102581,\n",
              "   'link': 'https://stackoverflow.com/questions/337/xml-processing-in-python',\n",
              "   'owner': {'accept_rate': 73,\n",
              "    'display_name': 'saalon',\n",
              "    'link': 'https://stackoverflow.com/users/111/saalon',\n",
              "    'profile_image': 'https://www.gravatar.com/avatar/0b4711b9840dae35e1f921354dc320c0?s=256&d=identicon&r=PG',\n",
              "    'reputation': 3584,\n",
              "    'user_id': 111,\n",
              "    'user_type': 'registered'},\n",
              "   'protected_date': 1376504248,\n",
              "   'question_id': 337,\n",
              "   'score': 79,\n",
              "   'tags': ['python', 'xml'],\n",
              "   'title': 'XML Processing in Python',\n",
              "   'view_count': 9642}],\n",
              " 'page': 1,\n",
              " 'quota_max': 300,\n",
              " 'quota_remaining': 238,\n",
              " 'total': 0}"
            ]
          },
          "metadata": {},
          "execution_count": 106
        }
      ]
    },
    {
      "cell_type": "markdown",
      "metadata": {
        "id": "RHoqHj_ZIO-j"
      },
      "source": [
        "Question with question id - 6"
      ]
    },
    {
      "cell_type": "code",
      "metadata": {
        "colab": {
          "base_uri": "https://localhost:8080/"
        },
        "id": "ZGuukm2gIDr6",
        "outputId": "c1e3983c-1b84-44e8-c5f2-e88c4fa9d1ac"
      },
      "source": [
        "asked_question = site_value.fetch('questions/{ids}', ids=[6], filter='withbody')\n",
        "print(\"Question Id 6\\n\" + asked_question['items'][0]['title'])"
      ],
      "execution_count": 97,
      "outputs": [
        {
          "output_type": "stream",
          "name": "stdout",
          "text": [
            "Question Id 6\n",
            "Why did the width collapse in the percentage width child element in an absolutely positioned parent on Internet Explorer 7?\n"
          ]
        }
      ]
    },
    {
      "cell_type": "markdown",
      "metadata": {
        "id": "JAbRS8bKIacn"
      },
      "source": [
        "Question with question id - 1010"
      ]
    },
    {
      "cell_type": "code",
      "metadata": {
        "colab": {
          "base_uri": "https://localhost:8080/"
        },
        "id": "-Fsw5dOdCHuM",
        "outputId": "1ecb5ebd-bdd7-4d5d-c3d3-740eaa832129"
      },
      "source": [
        "print(\"Following question is similar:\\n\" + question['items'][0]['title'])\n"
      ],
      "execution_count": 107,
      "outputs": [
        {
          "output_type": "stream",
          "name": "stdout",
          "text": [
            "Following question is similar:\n",
            "XML Processing in Python\n"
          ]
        }
      ]
    },
    {
      "cell_type": "markdown",
      "metadata": {
        "id": "lKTs6FPuCgFS"
      },
      "source": [
        "##Exhaustive Search\n",
        "Any search process in which every item of a set is checked before a decision is made about the presence or absence of a target item. This may be a search for particular items in memory, a visual search, or any problem-solving exercise that involves choosing the best path to a solution from a number of alternative paths."
      ]
    },
    {
      "cell_type": "markdown",
      "metadata": {
        "id": "Etb_DxQbJNUW"
      },
      "source": [
        "###Creating Index Class"
      ]
    },
    {
      "cell_type": "code",
      "metadata": {
        "id": "oDLXT00hCXRg"
      },
      "source": [
        "class ExhaustiveSearchIndex():\n",
        "  def __init__(self, vectors, labels):\n",
        "    self.dimension = vectors.shape[1]\n",
        "    self.vectors = vectors.astype('float32')\n",
        "    self.labels = labels\n",
        "\n",
        "  def build_index(self):\n",
        "    self.index = faiss.IndexFlatL2(self.dimension,)\n",
        "    self.index.add(self.vectors)\n",
        "\n",
        "  def results(self, vectors, k=10):\n",
        "    distances, indices = self.index.search(vectors, k) \n",
        "    return [self.labels[i] for i in indices[0]]"
      ],
      "execution_count": 45,
      "outputs": []
    },
    {
      "cell_type": "markdown",
      "metadata": {
        "id": "YkU8b-dSJSts"
      },
      "source": [
        "###Checking the time taken for the algorithm to return the data\n",
        "Here we are checking for the similar questions to question id 6"
      ]
    },
    {
      "cell_type": "code",
      "metadata": {
        "colab": {
          "base_uri": "https://localhost:8080/"
        },
        "id": "e1LraEsLCtWi",
        "outputId": "85f89901-85f9-4e2b-fcdb-b5222285e6dc"
      },
      "source": [
        "time_1 = time.time()\n",
        "\n",
        "exi_ind = ExhaustiveSearchIndex(data[\"vector\"], data[\"name\"])\n",
        "exi_ind.build_index()\n",
        "\n",
        "vector, name = data['vector'][6:7], data['name'][6]\n",
        "\n",
        "simlar_question_return_ids = '\\n '.join(exi_ind.results(vector))\n",
        "print(f\"Similar questions to question id - {name} are:\\n {simlar_question_return_ids}\")\n",
        "\n",
        "time_2 = time.time()\n",
        "\n",
        "total_time = time_2-time_1\n",
        "\n",
        "print(\"Exhaustive Search took {total_time} seconds.\".format(total_time=total_time))"
      ],
      "execution_count": 108,
      "outputs": [
        {
          "output_type": "stream",
          "name": "stdout",
          "text": [
            "Similar questions to question id - question_id:6 are:\n",
            " question_id:6\n",
            " question_id:9\n",
            " question_id:138\n",
            " question_id:833\n",
            " question_id:28568\n",
            " question_id:6744\n",
            " question_id:10135\n",
            " question_id:555\n",
            " question_id:10706\n",
            " question_id:338\n",
            "Exhaustive Search took 0.021610736846923828 seconds.\n"
          ]
        }
      ]
    },
    {
      "cell_type": "markdown",
      "metadata": {
        "id": "F9levtgVJY3w"
      },
      "source": [
        "###Let us retrieve the question id for one of the questions from the above returned result along with the original question"
      ]
    },
    {
      "cell_type": "code",
      "metadata": {
        "colab": {
          "base_uri": "https://localhost:8080/"
        },
        "id": "PVN52k8oDKWF",
        "outputId": "38af7e7a-600a-46d5-9d8e-1399296f54eb"
      },
      "source": [
        "question = site_value.fetch('questions/{ids}', ids=[9], filter='withbody')\n",
        "question"
      ],
      "execution_count": 109,
      "outputs": [
        {
          "output_type": "execute_result",
          "data": {
            "text/plain": [
              "{'backoff': 0,\n",
              " 'has_more': False,\n",
              " 'items': [{'accepted_answer_id': 1404,\n",
              "   'answer_count': 68,\n",
              "   'body': \"<p>Given a <code>DateTime</code> representing a person's birthday, how do I calculate their age in years?</p>\\n\",\n",
              "   'community_owned_date': 1313523643,\n",
              "   'content_license': 'CC BY-SA 4.0',\n",
              "   'creation_date': 1217547659,\n",
              "   'is_answered': True,\n",
              "   'last_activity_date': 1637011985,\n",
              "   'last_edit_date': 1609868012,\n",
              "   'link': 'https://stackoverflow.com/questions/9/how-do-i-calculate-someones-age-based-on-a-datetime-type-birthday',\n",
              "   'owner': {'accept_rate': 100,\n",
              "    'display_name': 'Jeff Atwood',\n",
              "    'link': 'https://stackoverflow.com/users/1/jeff-atwood',\n",
              "    'profile_image': 'https://www.gravatar.com/avatar/51d623f33f8b83095db84ff35e15dbe8?s=256&d=identicon&r=PG',\n",
              "    'reputation': 61685,\n",
              "    'user_id': 1,\n",
              "    'user_type': 'registered'},\n",
              "   'question_id': 9,\n",
              "   'score': 2068,\n",
              "   'tags': ['c#', '.net', 'datetime'],\n",
              "   'title': 'How do I calculate someone&#39;s age based on a DateTime type birthday?',\n",
              "   'view_count': 707604}],\n",
              " 'page': 1,\n",
              " 'quota_max': 300,\n",
              " 'quota_remaining': 236,\n",
              " 'total': 0}"
            ]
          },
          "metadata": {},
          "execution_count": 109
        }
      ]
    },
    {
      "cell_type": "markdown",
      "metadata": {
        "id": "0NMBBRj6KU4O"
      },
      "source": [
        "Question for question id 6"
      ]
    },
    {
      "cell_type": "code",
      "metadata": {
        "colab": {
          "base_uri": "https://localhost:8080/"
        },
        "id": "vZCqZI1bKZao",
        "outputId": "c7023d23-a839-4078-da7c-c418e1133f6a"
      },
      "source": [
        "asked_question = site_value.fetch('questions/{ids}', ids=[6], filter='withbody')\n",
        "print(\"Question Id 6\\n\" + asked_question['items'][0]['title'])"
      ],
      "execution_count": 111,
      "outputs": [
        {
          "output_type": "stream",
          "name": "stdout",
          "text": [
            "Question Id 6\n",
            "Why did the width collapse in the percentage width child element in an absolutely positioned parent on Internet Explorer 7?\n"
          ]
        }
      ]
    },
    {
      "cell_type": "code",
      "metadata": {
        "colab": {
          "base_uri": "https://localhost:8080/"
        },
        "id": "3nLea9RlDXTG",
        "outputId": "661e0049-8822-4322-cbd7-9066b1f2dbc5"
      },
      "source": [
        "print(\"Following question is similar:\\n\" + question['items'][0]['title'])"
      ],
      "execution_count": 113,
      "outputs": [
        {
          "output_type": "stream",
          "name": "stdout",
          "text": [
            "Following question is similar:\n",
            "How do I calculate someone&#39;s age based on a DateTime type birthday?\n"
          ]
        }
      ]
    },
    {
      "cell_type": "markdown",
      "metadata": {
        "id": "ERdHrAX7Dk7g"
      },
      "source": [
        "##Trees and Graphs"
      ]
    },
    {
      "cell_type": "markdown",
      "metadata": {
        "id": "VfflfW-JKiI0"
      },
      "source": [
        "###Create Index Class"
      ]
    },
    {
      "cell_type": "code",
      "metadata": {
        "id": "FPXaO0ySDpUe"
      },
      "source": [
        "class AnnoyIndex():\n",
        "    def __init__(self, vectors, labels):\n",
        "        self.dimention = vectors.shape[1]\n",
        "        self.vectors = vectors.astype('float32')\n",
        "        self.labels = labels\n",
        "\n",
        "\n",
        "    def build(self, number_of_trees=5):\n",
        "        self.index = annoy.AnnoyIndex(self.dimention)\n",
        "        for i, vec in enumerate(self.vectors):\n",
        "            self.index.add_item(i, vec.tolist())\n",
        "        self.index.build(number_of_trees)\n",
        "        \n",
        "    def results(self, vector, k=10):\n",
        "        indices = self.index.get_nns_by_vector(vector.tolist(), k)\n",
        "        return [self.labels[i] for i in indices]"
      ],
      "execution_count": 64,
      "outputs": []
    },
    {
      "cell_type": "markdown",
      "metadata": {
        "id": "1SjnFGacKmpZ"
      },
      "source": [
        "###Checking the time taken for the algorithm to return the data\n",
        "Here we are checking for the similar questions to question id 6"
      ]
    },
    {
      "cell_type": "code",
      "metadata": {
        "colab": {
          "base_uri": "https://localhost:8080/"
        },
        "id": "qJ-K3TB8DwRn",
        "outputId": "13d372e1-7d61-4d73-ecbd-78b9bf1d1e4b"
      },
      "source": [
        "time_1 = time.time()\n",
        "\n",
        "annoy_ind = AnnoyIndex(data[\"vector\"], data[\"name\"])\n",
        "annoy_ind.build()\n",
        "\n",
        "vector, name = data['vector'][6], data['name'][6]\n",
        "\n",
        "simlar_question_return_ids = '\\n '.join(annoy_ind.results(vector))\n",
        "print(f\"Similar questions to question id - {name} are:\\n {simlar_question_return_ids}\")\n",
        "\n",
        "time_2 = time.time()\n",
        "\n",
        "total_time = time_2-time_1\n",
        "\n",
        "print(\"Trees and Graphs took {total_time} seconds.\".format(total_time=total_time))"
      ],
      "execution_count": 114,
      "outputs": [
        {
          "output_type": "stream",
          "name": "stderr",
          "text": [
            "/usr/local/lib/python3.7/dist-packages/ipykernel_launcher.py:9: FutureWarning: The default argument for metric will be removed in future version of Annoy. Please pass metric='angular' explicitly.\n",
            "  if __name__ == '__main__':\n"
          ]
        },
        {
          "output_type": "stream",
          "name": "stdout",
          "text": [
            "Similar questions to question id - question_id:6 are:\n",
            " question_id:6\n",
            " question_id:138\n",
            " question_id:780\n",
            " question_id:443\n",
            " question_id:555\n",
            " question_id:666\n",
            " question_id:338\n",
            " question_id:11001\n",
            " question_id:10135\n",
            " question_id:19753\n",
            "Trees and Graphs took 0.8037028312683105 seconds.\n"
          ]
        }
      ]
    },
    {
      "cell_type": "markdown",
      "metadata": {
        "id": "uJ0jT5lvLhqE"
      },
      "source": [
        "###Let us retrieve the question id for one of the questions from the above returned result along with the original question"
      ]
    },
    {
      "cell_type": "code",
      "metadata": {
        "colab": {
          "base_uri": "https://localhost:8080/"
        },
        "id": "vnWefqgcEQEw",
        "outputId": "962327f9-6949-4057-c580-fb63b9762379"
      },
      "source": [
        "question = site_value.fetch('questions/{ids}', ids=[6], filter='withbody')\n",
        "question"
      ],
      "execution_count": 131,
      "outputs": [
        {
          "output_type": "execute_result",
          "data": {
            "text/plain": [
              "{'backoff': 0,\n",
              " 'has_more': False,\n",
              " 'items': [{'accepted_answer_id': 31,\n",
              "   'answer_count': 7,\n",
              "   'body': \"<p>I have an absolutely positioned <code>div</code> containing several children, one of which is a relatively positioned <code>div</code>. When I use a <code>percentage-based width</code> on the child <code>div</code>, it collapses to <code>0 width</code> on IE7, but not on Firefox or Safari.</p>\\n<p>If I use <code>pixel width</code>, it works. If the parent is relatively positioned, the percentage width on the child works.</p>\\n<ol>\\n<li>Is there something I'm missing here?</li>\\n<li>Is there an easy fix for this besides the <code>pixel-based width</code> on the child?</li>\\n<li>Is there an area of the CSS specification that covers this?</li>\\n</ol>\\n\",\n",
              "   'content_license': 'CC BY-SA 4.0',\n",
              "   'creation_date': 1217542088,\n",
              "   'is_answered': True,\n",
              "   'last_activity_date': 1611946005,\n",
              "   'last_edit_date': 1611946005,\n",
              "   'link': 'https://stackoverflow.com/questions/6/why-did-the-width-collapse-in-the-percentage-width-child-element-in-an-absolutel',\n",
              "   'owner': {'accept_rate': 32,\n",
              "    'display_name': 'Kevin Dente',\n",
              "    'link': 'https://stackoverflow.com/users/9/kevin-dente',\n",
              "    'profile_image': 'https://www.gravatar.com/avatar/23c1e2063688620b75b248e08c0d5c24?s=256&d=identicon&r=PG',\n",
              "    'reputation': 24004,\n",
              "    'user_id': 9,\n",
              "    'user_type': 'registered'},\n",
              "   'protected_date': 1414626308,\n",
              "   'question_id': 6,\n",
              "   'score': 309,\n",
              "   'tags': ['html', 'css', 'internet-explorer-7'],\n",
              "   'title': 'Why did the width collapse in the percentage width child element in an absolutely positioned parent on Internet Explorer 7?',\n",
              "   'view_count': 22152}],\n",
              " 'page': 1,\n",
              " 'quota_max': 300,\n",
              " 'quota_remaining': 218,\n",
              " 'total': 0}"
            ]
          },
          "metadata": {},
          "execution_count": 131
        }
      ]
    },
    {
      "cell_type": "markdown",
      "metadata": {
        "id": "l-xjcaZrJdxI"
      },
      "source": [
        "Question for question id 6"
      ]
    },
    {
      "cell_type": "code",
      "metadata": {
        "colab": {
          "base_uri": "https://localhost:8080/"
        },
        "id": "9lU_LuexJejj",
        "outputId": "3a928232-7155-4296-ca53-986c9893d1ad"
      },
      "source": [
        "asked_question = site_value.fetch('questions/{ids}', ids=[6], filter='withbody')\n",
        "print(\"Question Id 6\\n\" + asked_question['items'][0]['title'])"
      ],
      "execution_count": 153,
      "outputs": [
        {
          "output_type": "stream",
          "name": "stdout",
          "text": [
            "Question Id 6\n",
            "Why did the width collapse in the percentage width child element in an absolutely positioned parent on Internet Explorer 7?\n"
          ]
        }
      ]
    },
    {
      "cell_type": "markdown",
      "metadata": {
        "id": "kfqvuxbMLPsr"
      },
      "source": [
        "Similar question"
      ]
    },
    {
      "cell_type": "code",
      "metadata": {
        "colab": {
          "base_uri": "https://localhost:8080/"
        },
        "id": "m7MHs9x4Eoti",
        "outputId": "689bf730-5e3f-4696-a106-930f3f6dfc85"
      },
      "source": [
        "print(\"Following question is similar:\\n\" + question['items'][0]['title'])"
      ],
      "execution_count": 68,
      "outputs": [
        {
          "output_type": "stream",
          "name": "stdout",
          "text": [
            "Following question is similar:\n",
            "Why did the width collapse in the percentage width child element in an absolutely positioned parent on Internet Explorer 7?\n"
          ]
        }
      ]
    },
    {
      "cell_type": "markdown",
      "metadata": {
        "id": "n8JHCHq_EqNx"
      },
      "source": [
        "##Product Quantization\n",
        "Product quantization (PQ) is an effective vector quantization method. A product quantizer can generate an exponentially large codebook at very low memory/time cost. The essence of PQ is to decompose the high-dimensional vector space into the Cartesian product of subspaces and then quantize these subspaces separately."
      ]
    },
    {
      "cell_type": "markdown",
      "metadata": {
        "id": "VRIvyPcjLRhM"
      },
      "source": [
        "###Create Index Class"
      ]
    },
    {
      "cell_type": "code",
      "metadata": {
        "id": "Q9VKAEUEEtHc"
      },
      "source": [
        "class PQIndex():\n",
        "    def __init__(self, vectors, labels):\n",
        "        self.dimension = vectors.shape[1]\n",
        "        self.vectors = vectors.astype('float32')\n",
        "        self.labels = labels    \n",
        "        \n",
        "    def build(self, \n",
        "              number_of_partition=8, \n",
        "              search_in_x_partitions=2, \n",
        "              subvector_size=8):\n",
        "        quantizer = faiss.IndexFlatL2(self.dimension)\n",
        "        self.index = faiss.IndexIVFPQ(quantizer, \n",
        "                                      self.dimension, \n",
        "                                      number_of_partition, \n",
        "                                      search_in_x_partitions, \n",
        "                                      subvector_size)\n",
        "        self.index.train(self.vectors)\n",
        "        self.index.add(self.vectors)\n",
        "        \n",
        "    def results(self, vectors, k=10):\n",
        "        distances, indices = self.index.search(vectors, k) \n",
        "        return [self.labels[i] for i in indices[0]]"
      ],
      "execution_count": 72,
      "outputs": []
    },
    {
      "cell_type": "markdown",
      "metadata": {
        "id": "Fc3jA61HKof9"
      },
      "source": [
        "###Checking the time taken for the algorithm to return the data\n",
        "Here we are checking for the similar questions to question id 6"
      ]
    },
    {
      "cell_type": "code",
      "metadata": {
        "colab": {
          "base_uri": "https://localhost:8080/"
        },
        "id": "vJ2myRZ6E0zU",
        "outputId": "c991d903-e46c-414e-d7aa-11e556503e9b"
      },
      "source": [
        "time_1 = time.time()\n",
        "\n",
        "annoy_ind = PQIndex(data[\"vector\"], data[\"name\"])\n",
        "annoy_ind.build()\n",
        "\n",
        "vector, name = data['vector'][6:7], data['name'][6]\n",
        "\n",
        "simlar_question_return_ids = '\\n '.join(annoy_ind.results(vector))\n",
        "print(f\"Similar questions to question id - {name} are:\\n {simlar_question_return_ids}\")\n",
        "\n",
        "time_2 = time.time()\n",
        "\n",
        "total_time = time_2-time_1\n",
        "\n",
        "print(\"Product Quantization took {total_time} seconds.\".format(total_time=total_time))"
      ],
      "execution_count": 133,
      "outputs": [
        {
          "output_type": "stream",
          "name": "stdout",
          "text": [
            "Similar questions to question id - question_id:6 are:\n",
            " question_id:6\n",
            " question_id:9\n",
            " question_id:1234\n",
            " question_id:15\n",
            " question_id:778\n",
            " question_id:145\n",
            " question_id:84\n",
            " question_id:20\n",
            " question_id:135\n",
            " question_id:82\n",
            "Product Quantization took 3.4982359409332275 seconds.\n"
          ]
        }
      ]
    },
    {
      "cell_type": "markdown",
      "metadata": {
        "id": "jiu2cbxSLj54"
      },
      "source": [
        "###Let us retrieve the question id for one of the questions from the above returned result along with the original question"
      ]
    },
    {
      "cell_type": "code",
      "metadata": {
        "colab": {
          "base_uri": "https://localhost:8080/"
        },
        "id": "XuezkFS2FXWo",
        "outputId": "c43ab217-1239-4e88-9e79-e8f1e4bd0a16"
      },
      "source": [
        "question = site_value.fetch('questions/{ids}', ids=[145], filter='withbody')\n",
        "question"
      ],
      "execution_count": 144,
      "outputs": [
        {
          "output_type": "execute_result",
          "data": {
            "text/plain": [
              "{'backoff': 0,\n",
              " 'has_more': False,\n",
              " 'items': [{'answer_count': 9,\n",
              "   'body': '<p>Does anyone know of a good way to compress or decompress files and folders in C# quickly? Handling large files might be necessary.</p>\\n',\n",
              "   'community_owned_date': 1396616569,\n",
              "   'content_license': 'CC BY-SA 4.0',\n",
              "   'creation_date': 1217610788,\n",
              "   'is_answered': True,\n",
              "   'last_activity_date': 1584530660,\n",
              "   'last_edit_date': 1545747183,\n",
              "   'link': 'https://stackoverflow.com/questions/145/compressing-decompressing-folders-files',\n",
              "   'owner': {'accept_rate': 67,\n",
              "    'display_name': 'DylanJ',\n",
              "    'link': 'https://stackoverflow.com/users/87/dylanj',\n",
              "    'profile_image': 'https://www.gravatar.com/avatar/1f8377ba373028db1c2598a963c9ee2c?s=256&d=identicon&r=PG',\n",
              "    'reputation': 2165,\n",
              "    'user_id': 87,\n",
              "    'user_type': 'registered'},\n",
              "   'question_id': 145,\n",
              "   'score': 57,\n",
              "   'tags': ['c#', '.net', 'file', 'compression'],\n",
              "   'title': 'Compressing / Decompressing Folders &amp; Files',\n",
              "   'view_count': 5040}],\n",
              " 'page': 1,\n",
              " 'quota_max': 300,\n",
              " 'quota_remaining': 207,\n",
              " 'total': 0}"
            ]
          },
          "metadata": {},
          "execution_count": 144
        }
      ]
    },
    {
      "cell_type": "markdown",
      "metadata": {
        "id": "Bp9LUJl5Lqfc"
      },
      "source": [
        "Question with question id 6"
      ]
    },
    {
      "cell_type": "code",
      "metadata": {
        "colab": {
          "base_uri": "https://localhost:8080/"
        },
        "id": "9_G7jhCZLp5U",
        "outputId": "dc634c28-95e2-4b62-959f-4c363d0062d6"
      },
      "source": [
        "asked_question = site_value.fetch('questions/{ids}', ids=[6], filter='withbody')\n",
        "print(\"Question Id 6\\n\" + asked_question['items'][0]['title'])"
      ],
      "execution_count": 138,
      "outputs": [
        {
          "output_type": "stream",
          "name": "stdout",
          "text": [
            "Question Id 6\n",
            "Why did the width collapse in the percentage width child element in an absolutely positioned parent on Internet Explorer 7?\n"
          ]
        }
      ]
    },
    {
      "cell_type": "code",
      "metadata": {
        "colab": {
          "base_uri": "https://localhost:8080/"
        },
        "id": "6kL5-bu3FjiE",
        "outputId": "fea1d513-4353-44b5-87ac-8ca6a442b3a1"
      },
      "source": [
        "print(\"Following question is similar:\\n\" + question['items'][0]['title'])"
      ],
      "execution_count": 139,
      "outputs": [
        {
          "output_type": "stream",
          "name": "stdout",
          "text": [
            "Following question is similar:\n",
            "Compressing / Decompressing Folders &amp; Files\n"
          ]
        }
      ]
    },
    {
      "cell_type": "markdown",
      "metadata": {
        "id": "Tg9erqKxFnQ4"
      },
      "source": [
        "##HNSW\n",
        "Hierarchical Navigable Small World (HNSW) graphs are among the top-performing indexes for vector similarity search[1]. HNSW is a hugely popular technology that time and time again produces state-of-the-art performance with super fast search speeds and fantastic recall.\n",
        "\n",
        "Yet despite being a popular and robust algorithm for approximate nearest neighbors (ANN) searches, understanding how it works is far from easy."
      ]
    },
    {
      "cell_type": "markdown",
      "metadata": {
        "id": "bQPEb1UkL4dX"
      },
      "source": [
        "###Create Class Index"
      ]
    },
    {
      "cell_type": "code",
      "metadata": {
        "id": "f0Im1pMKFqUF"
      },
      "source": [
        "class NMSLIBIndex():\n",
        "  def __init__(self, vectors, labels):\n",
        "    self.dimention = vectors.shape[1]\n",
        "    self.vectors = vectors.astype('float32')\n",
        "    self.labels = labels\n",
        "\n",
        "  def build(self):\n",
        "    self.index = nmslib.init(method='hnsw', space='cosinesimil')\n",
        "    self.index.addDataPointBatch(self.vectors)\n",
        "    self.index.createIndex({'post': 2})\n",
        "        \n",
        "  def results(self, vector, k=10):\n",
        "    indices = self.index.knnQuery(vector, k=k)\n",
        "    return [self.labels[i] for i in indices[0]]"
      ],
      "execution_count": 147,
      "outputs": []
    },
    {
      "cell_type": "markdown",
      "metadata": {
        "id": "2DQl-RQgL_k-"
      },
      "source": [
        "###Checking the time taken for the algorithm to return the data\n",
        "Here we are checking for the similar questions to question id 6"
      ]
    },
    {
      "cell_type": "code",
      "metadata": {
        "colab": {
          "base_uri": "https://localhost:8080/"
        },
        "id": "Ov9_7ScSFv0O",
        "outputId": "9205fb1e-781e-450a-a012-a2c342aae05c"
      },
      "source": [
        "time_1 = time.time()\n",
        "\n",
        "hnsw_ind = NMSLIBIndex(data[\"vector\"], data[\"name\"])\n",
        "hnsw_ind.build()\n",
        "\n",
        "vector, name = data['vector'][6:7], data['name'][6]\n",
        "\n",
        "simlar_question_return_ids = '\\n '.join(hnsw_ind.results(vector))\n",
        "print(f\"Similar questions to question id - {name} are:\\n {simlar_question_return_ids}\")\n",
        "\n",
        "time_2 = time.time()\n",
        "\n",
        "total_time = time_2-time_1\n",
        "\n",
        "print(\"HNSW took {total_time} seconds.\".format(total_time=total_time))"
      ],
      "execution_count": 146,
      "outputs": [
        {
          "output_type": "stream",
          "name": "stdout",
          "text": [
            "Similar questions to question id - question_id:6 are:\n",
            " question_id:6\n",
            " question_id:9\n",
            " question_id:138\n",
            " question_id:22\n",
            " question_id:833\n",
            " question_id:5\n",
            " question_id:50\n",
            " question_id:131\n",
            " question_id:28\n",
            " question_id:90\n",
            "HNSW took 50.4233021736145 seconds.\n"
          ]
        }
      ]
    },
    {
      "cell_type": "markdown",
      "metadata": {
        "id": "VOlI39wgMqti"
      },
      "source": [
        "###Let us retrieve the question id for one of the questions from the above returned result along with the original question"
      ]
    },
    {
      "cell_type": "code",
      "metadata": {
        "colab": {
          "base_uri": "https://localhost:8080/"
        },
        "id": "DJILK5cQF6XC",
        "outputId": "97096a19-d181-4259-951a-0bb35a2f3313"
      },
      "source": [
        "question = site_value.fetch('questions/{ids}', ids=[90], filter='withbody')\n",
        "question"
      ],
      "execution_count": 150,
      "outputs": [
        {
          "output_type": "execute_result",
          "data": {
            "text/plain": [
              "{'backoff': 0,\n",
              " 'has_more': False,\n",
              " 'items': [{'accepted_answer_id': 1466832,\n",
              "   'answer_count': 3,\n",
              "   'body': '<p>How do you <a href=\"http://svnbook.red-bean.com/en/1.8/svn.branchmerge.html\" rel=\"noreferrer\">branch and merge</a> with Apache Subversion using the TortoiseSVN client? </p>\\n',\n",
              "   'closed_date': 1356493549,\n",
              "   'closed_reason': 'not a real question',\n",
              "   'creation_date': 1217601684,\n",
              "   'is_answered': True,\n",
              "   'last_activity_date': 1503594083,\n",
              "   'last_edit_date': 1503594083,\n",
              "   'link': 'https://stackoverflow.com/questions/90/how-do-you-branch-and-merge-with-tortoisesvn',\n",
              "   'owner': {'accept_rate': 91,\n",
              "    'display_name': 'cmcculloh',\n",
              "    'link': 'https://stackoverflow.com/users/58/cmcculloh',\n",
              "    'profile_image': 'https://www.gravatar.com/avatar/298e0497aa6b76a573f17e6a2bb22dec?s=256&d=identicon&r=PG',\n",
              "    'reputation': 44671,\n",
              "    'user_id': 58,\n",
              "    'user_type': 'registered'},\n",
              "   'question_id': 90,\n",
              "   'score': 163,\n",
              "   'tags': ['svn', 'tortoisesvn', 'branch', 'branching-and-merging'],\n",
              "   'title': 'How do you branch and merge with TortoiseSVN?',\n",
              "   'view_count': 56115}],\n",
              " 'page': 1,\n",
              " 'quota_max': 300,\n",
              " 'quota_remaining': 204,\n",
              " 'total': 0}"
            ]
          },
          "metadata": {},
          "execution_count": 150
        }
      ]
    },
    {
      "cell_type": "markdown",
      "metadata": {
        "id": "oCh55eBcMysD"
      },
      "source": [
        "Question id - 6"
      ]
    },
    {
      "cell_type": "code",
      "metadata": {
        "colab": {
          "base_uri": "https://localhost:8080/"
        },
        "id": "E3r10L6pM0lm",
        "outputId": "f82d31f0-63a8-442b-de36-3543b47a2129"
      },
      "source": [
        "asked_question = site_value.fetch('questions/{ids}', ids=[6], filter='withbody')\n",
        "print(\"Question Id 6\\n\" + asked_question['items'][0]['title'])"
      ],
      "execution_count": 151,
      "outputs": [
        {
          "output_type": "stream",
          "name": "stdout",
          "text": [
            "Question Id 6\n",
            "Why did the width collapse in the percentage width child element in an absolutely positioned parent on Internet Explorer 7?\n"
          ]
        }
      ]
    },
    {
      "cell_type": "markdown",
      "metadata": {
        "id": "CQ3ZKwdwM4LW"
      },
      "source": [
        "Similar Question"
      ]
    },
    {
      "cell_type": "code",
      "metadata": {
        "colab": {
          "base_uri": "https://localhost:8080/"
        },
        "id": "TQYxeID3GDbb",
        "outputId": "e88488bf-85fb-4a70-86d8-f415a9b0410f"
      },
      "source": [
        "print(\"Following question is similar:\\n\" + question['items'][0]['title'])"
      ],
      "execution_count": 152,
      "outputs": [
        {
          "output_type": "stream",
          "name": "stdout",
          "text": [
            "Following question is similar:\n",
            "How do you branch and merge with TortoiseSVN?\n"
          ]
        }
      ]
    }
  ]
}